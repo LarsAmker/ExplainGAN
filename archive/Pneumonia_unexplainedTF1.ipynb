{
  "nbformat": 4,
  "nbformat_minor": 0,
  "metadata": {
    "colab": {
      "name": "Pneumonia.ipynb",
      "provenance": [],
      "collapsed_sections": [],
      "toc_visible": true,
      "authorship_tag": "ABX9TyPqjdapph5XFXemu0jJBFC2",
      "include_colab_link": true
    },
    "kernelspec": {
      "name": "python3",
      "display_name": "Python 3"
    },
    "accelerator": "GPU"
  },
  "cells": [
    {
      "cell_type": "markdown",
      "metadata": {
        "id": "view-in-github",
        "colab_type": "text"
      },
      "source": [
        "<a href=\"https://colab.research.google.com/github/LarsAmker/ExplainGAN/blob/master/Pneumonia_unexplained.ipynb\" target=\"_parent\"><img src=\"https://colab.research.google.com/assets/colab-badge.svg\" alt=\"Open In Colab\"/></a>"
      ]
    },
    {
      "cell_type": "code",
      "metadata": {
        "id": "CmpTb0PZ50ld",
        "colab_type": "code",
        "colab": {}
      },
      "source": [
        "# Colab library to upload files to notebook\n",
        "from google.colab import files\n",
        "\n",
        "# Install Kaggle library\n",
        "!pip install -q kaggle"
      ],
      "execution_count": 0,
      "outputs": []
    },
    {
      "cell_type": "code",
      "metadata": {
        "id": "ziaB1iqz9xgL",
        "colab_type": "code",
        "colab": {}
      },
      "source": [
        "#!pwd\n",
        "!mkdir ~/.kaggle\n",
        "#!cp /content/.kaggle/kaggle.json ~/.kaggle/kaggle.json"
      ],
      "execution_count": 0,
      "outputs": []
    },
    {
      "cell_type": "markdown",
      "metadata": {
        "id": "nwimdKtue5rn",
        "colab_type": "text"
      },
      "source": [
        "### Upload the kaggle.json file manually in the left hand pane"
      ]
    },
    {
      "cell_type": "code",
      "metadata": {
        "id": "b0YOj91hd0vc",
        "colab_type": "code",
        "colab": {}
      },
      "source": [
        "# copy the json file into the kaggle directory\n",
        "!cp kaggle.json ~/.kaggle/"
      ],
      "execution_count": 0,
      "outputs": []
    },
    {
      "cell_type": "code",
      "metadata": {
        "id": "AqW_Z7FH6Pxz",
        "colab_type": "code",
        "colab": {}
      },
      "source": [
        "# Check what files and directories are in the current working directory. -a makes hidden ones (starting with .) visible\n",
        "!ls -a"
      ],
      "execution_count": 0,
      "outputs": []
    },
    {
      "cell_type": "code",
      "metadata": {
        "id": "q85yyv5K7OiJ",
        "colab_type": "code",
        "colab": {}
      },
      "source": [
        "# Download pneumonia data (first line makes kaggle API key unreadable)\n",
        "!chmod 600 ~/.kaggle/kaggle.json\n",
        "!kaggle datasets download -d paultimothymooney/chest-xray-pneumonia\n",
        "# the zip file is listed in the left hand pane after the download. We need to unzip and create paths"
      ],
      "execution_count": 0,
      "outputs": []
    },
    {
      "cell_type": "code",
      "metadata": {
        "id": "XsvFZPXofXpV",
        "colab_type": "code",
        "colab": {}
      },
      "source": [
        "!unzip chest-xray-pneumonia.zip"
      ],
      "execution_count": 0,
      "outputs": []
    },
    {
      "cell_type": "markdown",
      "metadata": {
        "id": "fXUkM73Hh5Wz",
        "colab_type": "text"
      },
      "source": [
        "# NAIN's kaggle kernel\n",
        "\n",
        "Now try to rebuild the top kernel from kaggle (https://www.kaggle.com/aakashnain/beating-everything-with-depthwise-convolution). This is the classifier I would like to explain with ExplainGAN.\n",
        "\n",
        "Modifications compared to the original code of the kernel are mentioned when they appear."
      ]
    },
    {
      "cell_type": "code",
      "metadata": {
        "id": "oD-lNB19g0PM",
        "colab_type": "code",
        "colab": {}
      },
      "source": [
        "import os\n",
        "import glob\n",
        "import h5py\n",
        "import shutil\n",
        "import imgaug as aug\n",
        "import numpy as np # linear algebra\n",
        "import pandas as pd # data processing, CSV file I/O (e.g. pd.read_csv)\n",
        "import seaborn as sns\n",
        "import matplotlib.pyplot as plt\n",
        "import matplotlib.image as mimg\n",
        "import imgaug.augmenters as iaa\n",
        "from os import listdir, makedirs, getcwd, remove\n",
        "from os.path import isfile, join, abspath, exists, isdir, expanduser\n",
        "from PIL import Image\n",
        "from pathlib import Path\n",
        "from skimage.io import imread\n",
        "from skimage.transform import resize\n",
        "from keras.models import Sequential, Model\n",
        "from keras.applications.vgg16 import VGG16, preprocess_input\n",
        "from keras.preprocessing.image import ImageDataGenerator,load_img, img_to_array\n",
        "from keras.models import Sequential\n",
        "from keras.layers import Conv2D, MaxPooling2D, Dense, Dropout, Input, Flatten, SeparableConv2D\n",
        "from keras.layers import GlobalMaxPooling2D\n",
        "from keras.layers.normalization import BatchNormalization\n",
        "from keras.layers.merge import Concatenate\n",
        "from keras.models import Model\n",
        "from keras.optimizers import Adam, SGD, RMSprop\n",
        "from keras.callbacks import ModelCheckpoint, Callback, EarlyStopping\n",
        "from keras.utils import to_categorical\n",
        "from sklearn.model_selection import train_test_split\n",
        "from sklearn.preprocessing import StandardScaler\n",
        "from mlxtend.plotting import plot_confusion_matrix\n",
        "from sklearn.metrics import confusion_matrix\n",
        "import cv2\n",
        "from keras import backend as K\n",
        "color = sns.color_palette()\n",
        "%matplotlib inline"
      ],
      "execution_count": 0,
      "outputs": []
    },
    {
      "cell_type": "code",
      "metadata": {
        "id": "PCWnHofyg9om",
        "colab_type": "code",
        "colab": {}
      },
      "source": [
        "# My directory is called \"content\" instead of \"input\" as in the original code\n",
        "os.listdir(\"../content/chest_xray/chest_xray\") "
      ],
      "execution_count": 0,
      "outputs": []
    },
    {
      "cell_type": "markdown",
      "metadata": {
        "id": "MvEF_xzy7mL1",
        "colab_type": "text"
      },
      "source": [
        "Reproducibility is a great concern when doing deep learning. There was a good discussion on KaggleNoobs slack regarding this. We will set a numer of things in order to make sure that the results are almost reproducible(if not fully)."
      ]
    },
    {
      "cell_type": "code",
      "metadata": {
        "id": "1VoSoOQjf5ly",
        "colab_type": "code",
        "colab": {}
      },
      "source": [
        "import tensorflow as tf\n",
        "\n",
        "# Set the seed for hash based operations in python\n",
        "os.environ['PYTHONHASHSEED'] = '0'\n",
        "\n",
        "# Set the numpy seed\n",
        "np.random.seed(111)\n",
        "\n",
        "# Disable multi-threading in tensorflow ops\n",
        "session_conf = tf.ConfigProto(intra_op_parallelism_threads=1, inter_op_parallelism_threads=1)\n",
        "\n",
        "# Set the random seed in tensorflow at graph level\n",
        "tf.set_random_seed(111)\n",
        "\n",
        "# Define a tensorflow session with above session configs\n",
        "sess = tf.Session(graph=tf.get_default_graph(), config=session_conf)\n",
        "\n",
        "# Set the session in keras\n",
        "K.set_session(sess)\n",
        "\n",
        "# Make the augmentation sequence deterministic\n",
        "aug.seed(111)"
      ],
      "execution_count": 0,
      "outputs": []
    },
    {
      "cell_type": "markdown",
      "metadata": {
        "id": "Zi2uV41X7qVs",
        "colab_type": "text"
      },
      "source": [
        "The dataset is divided into three sets: 1) train set 2) validation set and 3) test set. Let's grab the dataset"
      ]
    },
    {
      "cell_type": "code",
      "metadata": {
        "id": "c57VWXTohsom",
        "colab_type": "code",
        "colab": {}
      },
      "source": [
        "# Define path to the data directory: \"content\" instead of \"input/chest-xray-pneumonia\" as in the original code\n",
        "data_dir = Path('../content/chest_xray/chest_xray')\n",
        "\n",
        "# Path to train directory (Fancy pathlib...no more os.path!!)\n",
        "train_dir = data_dir / 'train'\n",
        "\n",
        "# Path to validation directory\n",
        "val_dir = data_dir / 'val'\n",
        "\n",
        "# Path to test directory\n",
        "test_dir = data_dir / 'test'"
      ],
      "execution_count": 0,
      "outputs": []
    },
    {
      "cell_type": "markdown",
      "metadata": {
        "id": "5hXJKM3M7uLr",
        "colab_type": "text"
      },
      "source": [
        "We will first go through the training dataset. We will do some analysis on that, look at some of the samples, check the number of samples for each class, etc. Lets' do it.\n",
        "Each of the above directory contains two sub-directories:\n",
        "\n",
        "NORMAL: These are the samples that describe the normal (no pneumonia) case.\n",
        "\n",
        "PNEUMONIA: This directory contains those samples that are the pneumonia cases."
      ]
    },
    {
      "cell_type": "code",
      "metadata": {
        "id": "QNl_MYGri6Pr",
        "colab_type": "code",
        "colab": {}
      },
      "source": [
        "# Get the path to the normal and pneumonia sub-directories\n",
        "normal_cases_dir = train_dir / 'NORMAL'\n",
        "pneumonia_cases_dir = train_dir / 'PNEUMONIA'\n",
        "\n",
        "# Get the list of all the images\n",
        "normal_cases = normal_cases_dir.glob('*.jpeg')\n",
        "pneumonia_cases = pneumonia_cases_dir.glob('*.jpeg')\n",
        "\n",
        "# An empty list. We will insert the data into this list in (img_path, label) format\n",
        "train_data = []\n",
        "\n",
        "# Go through all the normal cases. The label for these cases will be 0\n",
        "for img in normal_cases:\n",
        "    train_data.append((img,0))\n",
        "\n",
        "# Go through all the pneumonia cases. The label for these cases will be 1\n",
        "for img in pneumonia_cases:\n",
        "    train_data.append((img, 1))\n",
        "\n",
        "# Get a pandas dataframe from the data we have in our list \n",
        "train_data = pd.DataFrame(train_data, columns=['image', 'label'],index=None)\n",
        "\n",
        "# Shuffle the data \n",
        "train_data = train_data.sample(frac=1.).reset_index(drop=True)\n",
        "\n",
        "# How the dataframe looks like?\n",
        "train_data.head()"
      ],
      "execution_count": 0,
      "outputs": []
    },
    {
      "cell_type": "code",
      "metadata": {
        "id": "nT85AvDhg3nD",
        "colab_type": "code",
        "colab": {}
      },
      "source": [
        "# How many samples for each class are there in the dataset?\n",
        "# Get the counts for each class\n",
        "cases_count = train_data['label'].value_counts()\n",
        "print(cases_count)\n",
        "\n",
        "# Plot the results \n",
        "plt.figure(figsize=(10,8))\n",
        "sns.barplot(x=cases_count.index, y= cases_count.values)\n",
        "plt.title('Number of cases', fontsize=14)\n",
        "plt.xlabel('Case type', fontsize=12)\n",
        "plt.ylabel('Count', fontsize=12)\n",
        "plt.xticks(range(len(cases_count.index)), ['Normal(0)', 'Pneumonia(1)'])\n",
        "plt.show()"
      ],
      "execution_count": 0,
      "outputs": []
    },
    {
      "cell_type": "markdown",
      "metadata": {
        "id": "1BcG8yHX74WR",
        "colab_type": "text"
      },
      "source": [
        "As you can see the data is highly imbalanced. We have almost with thrice pneumonia cases here as compared to the normal cases. This situation is very normal when it comes to medical data. The data will always be imbalanced. either there will be too many normal cases or there will be too many cases with the disease.\n",
        "\n",
        "Let's look at how a normal case is different from that of a pneumonia case. We will look at somes samples from our training data itself."
      ]
    },
    {
      "cell_type": "code",
      "metadata": {
        "id": "p3UapLDSmV3v",
        "colab_type": "code",
        "colab": {}
      },
      "source": [
        "# Get few samples for both the classes\n",
        "pneumonia_samples = (train_data[train_data['label']==1]['image'].iloc[:5]).tolist()\n",
        "normal_samples = (train_data[train_data['label']==0]['image'].iloc[:5]).tolist()\n",
        "\n",
        "# Concat the data in a single list and del the above two list\n",
        "samples = pneumonia_samples + normal_samples\n",
        "del pneumonia_samples, normal_samples\n",
        "\n",
        "# Plot the data \n",
        "f, ax = plt.subplots(2,5, figsize=(24,8))\n",
        "for i in range(10):\n",
        "    img = imread(samples[i])\n",
        "    ax[i//5, i%5].imshow(img, cmap='gray')\n",
        "    if i<5:\n",
        "        ax[i//5, i%5].set_title(\"Pneumonia\")\n",
        "    else:\n",
        "        ax[i//5, i%5].set_title(\"Normal\")\n",
        "    ax[i//5, i%5].axis('off')\n",
        "    ax[i//5, i%5].set_aspect('auto')\n",
        "plt.show()"
      ],
      "execution_count": 0,
      "outputs": []
    },
    {
      "cell_type": "markdown",
      "metadata": {
        "id": "RyjEp7cX8KtA",
        "colab_type": "text"
      },
      "source": [
        "If you look carefully, then there are some cases where you won't be able to differentiate between a normal case and a pneumonia case with the naked eye. There is one case in the above plot, at least for me ,which is too much confusing. If we can build a robust classifier, it would be a great assist to the doctor too.\n",
        "\n",
        "###Preparing validation data\n",
        "We will be defining a generator for the training dataset later in the notebook but as the validation data is small, so I can read the images and can load the data without the need of a generator. This is exactly what the code block given below is doing."
      ]
    },
    {
      "cell_type": "markdown",
      "metadata": {
        "id": "7umJVpQgpYc9",
        "colab_type": "text"
      },
      "source": [
        "# Focal loss: Different from here on. Starting with code box 11 of the kaggle kernel"
      ]
    },
    {
      "cell_type": "code",
      "metadata": {
        "id": "BOAlztNV-Oem",
        "colab_type": "code",
        "colab": {}
      },
      "source": [
        "# Do I want RGB or should I change it to Greyscale for all pictures maybe?\n",
        "# Get the path to the sub-directories\n",
        "normal_cases_dir = val_dir / 'NORMAL'\n",
        "pneumonia_cases_dir = val_dir / 'PNEUMONIA'\n",
        "\n",
        "# Get the list of all the images\n",
        "normal_cases = normal_cases_dir.glob('*.jpeg')\n",
        "pneumonia_cases = pneumonia_cases_dir.glob('*.jpeg')\n",
        "\n",
        "# List that are going to contain validation images data and the corresponding labels\n",
        "valid_data = []\n",
        "valid_labels = []\n",
        "\n",
        "# Some images are in grayscale while majority of them contains 3 channels. \n",
        "# So, if the image is grayscale, we will convert into a image with 3 channels.\n",
        "# We will normalize the pixel values and resizing all the images to 224x224 \n",
        "\n",
        "# Normal cases\n",
        "for img in normal_cases:\n",
        "    img = cv2.imread(str(img))\n",
        "    img = cv2.resize(img, (224,224))\n",
        "    if img.shape[2] ==1:\n",
        "        img = np.dstack([img, img, img]) # add a third dimension for RGB channels and fill it with 3 copies of the original\n",
        "    img = cv2.cvtColor(img, cv2.COLOR_BGR2RGB)\n",
        "    img = img.astype(np.float32)/255.\n",
        "    label = to_categorical(0, num_classes=2)\n",
        "    valid_data.append(img)\n",
        "    valid_labels.append(label)\n",
        "                      \n",
        "# Pneumonia cases        \n",
        "for img in pneumonia_cases:\n",
        "    img = cv2.imread(str(img))\n",
        "    img = cv2.resize(img, (224,224))\n",
        "    if img.shape[2] ==1:\n",
        "        img = np.dstack([img, img, img])\n",
        "    img = cv2.cvtColor(img, cv2.COLOR_BGR2RGB)\n",
        "    img = img.astype(np.float32)/255.\n",
        "    label = to_categorical(1, num_classes=2)\n",
        "    valid_data.append(img)\n",
        "    valid_labels.append(label)\n",
        "    \n",
        "# Convert the list into numpy arrays\n",
        "valid_data = np.array(valid_data)\n",
        "valid_labels = np.array(valid_labels)\n",
        "\n",
        "print(\"Total number of validation examples: \", valid_data.shape)\n",
        "print(\"Total number of labels:\", valid_labels.shape)"
      ],
      "execution_count": 0,
      "outputs": []
    },
    {
      "cell_type": "code",
      "metadata": {
        "id": "L-Tcgx36KFfw",
        "colab_type": "code",
        "colab": {}
      },
      "source": [
        "# Check quality: The image is still pretty clear after the reduction of pixels to 224*224\n",
        "#valid_data[0,:,:,0]\n",
        "fig = plt.figure(figsize=(18,6))\n",
        "plt.subplot(1, 3, 1)\n",
        "plt.imshow(valid_data[1, :, :, 0], cmap='gray')\n",
        "plt.axis('off')\n",
        "plt.subplot(1, 3, 2)\n",
        "plt.imshow(valid_data[1, :, :, 1], cmap='gray')\n",
        "plt.axis('off')\n",
        "plt.subplot(1, 3, 3)\n",
        "plt.imshow(valid_data[1, :, :, 2], cmap='gray')\n",
        "plt.axis('off')\n",
        "# All 3 RGB channels show the same picture. Is RGB really necessary?"
      ],
      "execution_count": 0,
      "outputs": []
    },
    {
      "cell_type": "markdown",
      "metadata": {
        "id": "Kr_2t1c9-cmG",
        "colab_type": "text"
      },
      "source": [
        "###Augmentation (stop ExplainGAN preprocessing before this?)\n",
        "Data augmentation is a powerful technique which helps in almost every case for improving the robustness of a model. But augmentation can be much more helpful where the dataset is imbalanced. You can generate different samples of undersampled class in order to try to balance the overall distribution.\n",
        "I like imgaug a lot. It comes with a very clean api and you can do hell of augmentations with it. It's worth exploring!! In the next code block, I will define a augmentation sequence. You will notice Oneof and it does exactly that. At each iteration, it will take one augmentation technique out of the three and will apply that on the samples"
      ]
    },
    {
      "cell_type": "code",
      "metadata": {
        "id": "A3vBbZ_c-nMA",
        "colab_type": "code",
        "colab": {}
      },
      "source": [
        "# Augmentation sequence \n",
        "seq = iaa.OneOf([\n",
        "    iaa.Fliplr(), # horizontal flips\n",
        "    iaa.Affine(rotate=20), # roatation\n",
        "    iaa.Multiply((1.2, 1.5))]) #random brightness"
      ],
      "execution_count": 0,
      "outputs": []
    },
    {
      "cell_type": "markdown",
      "metadata": {
        "id": "hXXQBH1C-q_F",
        "colab_type": "text"
      },
      "source": [
        "###Training data generator\n",
        "\n",
        "Here I will define a very simple data generator. You can do more than this if you want but I think at this point, this is more than enough I need."
      ]
    },
    {
      "cell_type": "code",
      "metadata": {
        "id": "_EawVbLY-xz9",
        "colab_type": "code",
        "colab": {}
      },
      "source": [
        "def data_gen(data, batch_size):\n",
        "    # Get total number of samples in the data\n",
        "    n = len(data)\n",
        "    steps = n//batch_size\n",
        "    \n",
        "    # Define two numpy arrays for containing batch data and labels\n",
        "    batch_data = np.zeros((batch_size, 224, 224, 3), dtype=np.float32)\n",
        "    batch_labels = np.zeros((batch_size,2), dtype=np.float32)\n",
        "\n",
        "    # Get a numpy array of all the indices of the input data\n",
        "    indices = np.arange(n)\n",
        "    \n",
        "    # Initialize a counter\n",
        "    i =0\n",
        "    while True:\n",
        "        np.random.shuffle(indices)\n",
        "        # Get the next batch \n",
        "        count = 0\n",
        "        next_batch = indices[(i*batch_size):(i+1)*batch_size]\n",
        "        for j, idx in enumerate(next_batch):\n",
        "            img_name = data.iloc[idx]['image']\n",
        "            label = data.iloc[idx]['label']\n",
        "            \n",
        "            # one hot encoding\n",
        "            encoded_label = to_categorical(label, num_classes=2)\n",
        "            # read the image and resize\n",
        "            img = cv2.imread(str(img_name))\n",
        "            img = cv2.resize(img, (224,224))\n",
        "            \n",
        "            # check if it's grayscale\n",
        "            if img.shape[2]==1:\n",
        "                img = np.dstack([img, img, img])\n",
        "            \n",
        "            # cv2 reads in BGR mode by default\n",
        "            orig_img = cv2.cvtColor(img, cv2.COLOR_BGR2RGB)\n",
        "            # normalize the image pixels\n",
        "            orig_img = img.astype(np.float32)/255.\n",
        "            \n",
        "            batch_data[count] = orig_img\n",
        "            batch_labels[count] = encoded_label\n",
        "            \n",
        "            # generating more samples of the undersampled class\n",
        "            if label==0 and count < batch_size-2:\n",
        "                aug_img1 = seq.augment_image(img)\n",
        "                aug_img2 = seq.augment_image(img)\n",
        "                aug_img1 = cv2.cvtColor(aug_img1, cv2.COLOR_BGR2RGB)\n",
        "                aug_img2 = cv2.cvtColor(aug_img2, cv2.COLOR_BGR2RGB)\n",
        "                aug_img1 = aug_img1.astype(np.float32)/255.\n",
        "                aug_img2 = aug_img2.astype(np.float32)/255.\n",
        "\n",
        "                batch_data[count+1] = aug_img1\n",
        "                batch_labels[count+1] = encoded_label\n",
        "                batch_data[count+2] = aug_img2\n",
        "                batch_labels[count+2] = encoded_label\n",
        "                count +=2\n",
        "            \n",
        "            else:\n",
        "                count+=1\n",
        "            \n",
        "            if count==batch_size-1:\n",
        "                break\n",
        "            \n",
        "        i+=1\n",
        "        yield batch_data, batch_labels\n",
        "            \n",
        "        if i>=steps:\n",
        "            i=0"
      ],
      "execution_count": 0,
      "outputs": []
    },
    {
      "cell_type": "markdown",
      "metadata": {
        "id": "BLX5Kddl-zhj",
        "colab_type": "text"
      },
      "source": [
        "###Model\n",
        "This is the best part. If you look at other kernels on this dataset, everyone is busy doing transfer learning and fine-tuning. You should transfer learn but wisely. We will be doing partial transfer learning and rest of the model will be trained from scratch. I will explain this in detail but before that, I would love to share one of the best practices when it comes to building deep learning models from scratch on limited data.\n",
        "\n",
        "1 Choose a simple architecture.\n",
        "\n",
        "2 Initialize the first few layers from a network that is pretrained on imagenet. This is because first few layers capture general details like color blobs, patches, edges, etc. Instead of randomly initialized weights for these layers, it would be much better if you fine tune them.\n",
        "\n",
        "3 Choose layers that introduce a lesser number of parameters. For example, Depthwise SeparableConv is a good replacement for Conv layer. It introduces lesser number of parameters as compared to normal convolution and as different filters are applied to each channel, it captures more information. Xception a powerful network, is built on top of such layers only. You can read about Xception and Depthwise Separable Convolutions in this paper.\n",
        "\n",
        "4 Use batch norm with convolutions. As the network becomes deeper, batch norm start to play an important role.\n",
        "\n",
        "5 Add dense layers with reasonable amount of neurons. Train with a higher learning rate and experiment with the number of neurons in the dense layers. Do it for the depth of your network too. \n",
        "\n",
        "6 Once you know a good depth, start training your network with a lower learning rate along with decay. \n",
        "\n",
        "This is all that I have done in the next code block."
      ]
    },
    {
      "cell_type": "code",
      "metadata": {
        "id": "ofPntLOF-zAY",
        "colab_type": "code",
        "colab": {}
      },
      "source": [
        "# There are some warning messages about deprecated functions from tensorflow. But I don't see them anywhere - ?\n",
        "def build_model():\n",
        "    input_img = Input(shape=(224,224,3), name='ImageInput')\n",
        "    x = Conv2D(64, (3,3), activation='relu', padding='same', name='Conv1_1')(input_img)\n",
        "    x = Conv2D(64, (3,3), activation='relu', padding='same', name='Conv1_2')(x)\n",
        "    x = MaxPooling2D((2,2), name='pool1')(x)\n",
        "    \n",
        "    x = SeparableConv2D(128, (3,3), activation='relu', padding='same', name='Conv2_1')(x)\n",
        "    x = SeparableConv2D(128, (3,3), activation='relu', padding='same', name='Conv2_2')(x)\n",
        "    x = MaxPooling2D((2,2), name='pool2')(x)\n",
        "    \n",
        "    x = SeparableConv2D(256, (3,3), activation='relu', padding='same', name='Conv3_1')(x)\n",
        "    x = BatchNormalization(name='bn1')(x)\n",
        "    x = SeparableConv2D(256, (3,3), activation='relu', padding='same', name='Conv3_2')(x)\n",
        "    x = BatchNormalization(name='bn2')(x)\n",
        "    x = SeparableConv2D(256, (3,3), activation='relu', padding='same', name='Conv3_3')(x)\n",
        "    x = MaxPooling2D((2,2), name='pool3')(x)\n",
        "    \n",
        "    x = SeparableConv2D(512, (3,3), activation='relu', padding='same', name='Conv4_1')(x)\n",
        "    x = BatchNormalization(name='bn3')(x)\n",
        "    x = SeparableConv2D(512, (3,3), activation='relu', padding='same', name='Conv4_2')(x)\n",
        "    x = BatchNormalization(name='bn4')(x)\n",
        "    x = SeparableConv2D(512, (3,3), activation='relu', padding='same', name='Conv4_3')(x)\n",
        "    x = MaxPooling2D((2,2), name='pool4')(x)\n",
        "    \n",
        "    x = Flatten(name='flatten')(x)\n",
        "    x = Dense(1024, activation='relu', name='fc1')(x)\n",
        "    x = Dropout(0.7, name='dropout1')(x)\n",
        "    x = Dense(512, activation='relu', name='fc2')(x)\n",
        "    x = Dropout(0.5, name='dropout2')(x)\n",
        "    x = Dense(2, activation='softmax', name='fc3')(x)\n",
        "    \n",
        "    model = Model(inputs=input_img, outputs=x)\n",
        "    return model"
      ],
      "execution_count": 0,
      "outputs": []
    },
    {
      "cell_type": "code",
      "metadata": {
        "id": "n4K3k3vn_Roz",
        "colab_type": "code",
        "colab": {}
      },
      "source": [
        "model =  build_model()\n",
        "model.summary()"
      ],
      "execution_count": 0,
      "outputs": []
    },
    {
      "cell_type": "markdown",
      "metadata": {
        "id": "Ed9LPd2uOV1d",
        "colab_type": "text"
      },
      "source": [
        "### Upload the vgg16 file manually in the left hand pane\n",
        "We will initialize the weights of first two convolutions with imagenet weights. They are contained in the vgg16 file listed on NAIN's kernel under data. Unzip it after uploading."
      ]
    },
    {
      "cell_type": "code",
      "metadata": {
        "id": "-0GlLiYta_OQ",
        "colab_type": "code",
        "colab": {}
      },
      "source": [
        "!unzip vgg16_weights_tf_dim_ordering_tf_kernels_notop.h5.zip"
      ],
      "execution_count": 0,
      "outputs": []
    },
    {
      "cell_type": "code",
      "metadata": {
        "id": "sNxl96CGOW0m",
        "colab_type": "code",
        "colab": {}
      },
      "source": [
        "# Open the VGG16 weight file.\n",
        "f = h5py.File('../content/vgg16_weights_tf_dim_ordering_tf_kernels_notop.h5', 'r')\n",
        "\n",
        "# Select the layers for which you want to set weight.\n",
        "\n",
        "w,b = f['block1_conv1']['block1_conv1_W_1:0'], f['block1_conv1']['block1_conv1_b_1:0']\n",
        "model.layers[1].set_weights = [w,b]\n",
        "\n",
        "w,b = f['block1_conv2']['block1_conv2_W_1:0'], f['block1_conv2']['block1_conv2_b_1:0']\n",
        "model.layers[2].set_weights = [w,b]\n",
        "\n",
        "w,b = f['block2_conv1']['block2_conv1_W_1:0'], f['block2_conv1']['block2_conv1_b_1:0']\n",
        "model.layers[4].set_weights = [w,b]\n",
        "\n",
        "w,b = f['block2_conv2']['block2_conv2_W_1:0'], f['block2_conv2']['block2_conv2_b_1:0']\n",
        "model.layers[5].set_weights = [w,b]\n",
        "\n",
        "f.close()\n",
        "model.summary()"
      ],
      "execution_count": 0,
      "outputs": []
    },
    {
      "cell_type": "code",
      "metadata": {
        "id": "ZI5o5UGccsam",
        "colab_type": "code",
        "colab": {}
      },
      "source": [
        "# opt = RMSprop(lr=0.0001, decay=1e-6)\n",
        "opt = Adam(lr=0.0001, decay=1e-5)\n",
        "es = EarlyStopping(patience=5)\n",
        "chkpt = ModelCheckpoint(filepath='best_model_todate', save_best_only=True, save_weights_only=True)\n",
        "model.compile(loss='binary_crossentropy', metrics=['accuracy'],optimizer=opt)"
      ],
      "execution_count": 0,
      "outputs": []
    },
    {
      "cell_type": "code",
      "metadata": {
        "id": "iE_TWWNyc8dd",
        "colab_type": "code",
        "colab": {}
      },
      "source": [
        "batch_size = 16\n",
        "nb_epochs = 20\n",
        "\n",
        "# Get a train data generator\n",
        "train_data_gen = data_gen(data=train_data, batch_size=batch_size)\n",
        "\n",
        "# Define the number of training steps\n",
        "nb_train_steps = train_data.shape[0]//batch_size\n",
        "\n",
        "print(\"Number of training and validation steps: {} and {}\".format(nb_train_steps, len(valid_data)))"
      ],
      "execution_count": 0,
      "outputs": []
    },
    {
      "cell_type": "code",
      "metadata": {
        "id": "Jh7Q2cqfdH4O",
        "colab_type": "code",
        "colab": {}
      },
      "source": [
        "# Fit the model\n",
        "# In NAIN's kernel, this was commented out. He uploaded his best weights instead, but the file containing these is not available\n",
        "history = model.fit_generator(train_data_gen, epochs=nb_epochs, steps_per_epoch=nb_train_steps,\n",
        "                              validation_data=(valid_data, valid_labels),callbacks=[es, chkpt],\n",
        "                              class_weight={0:1.0, 1:0.4})"
      ],
      "execution_count": 0,
      "outputs": []
    },
    {
      "cell_type": "code",
      "metadata": {
        "id": "l6Pynl6EfAI8",
        "colab_type": "code",
        "colab": {}
      },
      "source": [
        "# Preparing test data\n",
        "normal_cases_dir = test_dir / 'NORMAL'\n",
        "pneumonia_cases_dir = test_dir / 'PNEUMONIA'\n",
        "\n",
        "normal_cases = normal_cases_dir.glob('*.jpeg')\n",
        "pneumonia_cases = pneumonia_cases_dir.glob('*.jpeg')\n",
        "\n",
        "test_data = []\n",
        "test_labels = []\n",
        "\n",
        "for img in normal_cases:\n",
        "    img = cv2.imread(str(img))\n",
        "    img = cv2.resize(img, (224,224))\n",
        "    if img.shape[2] ==1:\n",
        "        img = np.dstack([img, img, img])\n",
        "    else:\n",
        "        img = cv2.cvtColor(img, cv2.COLOR_BGR2RGB)\n",
        "    img = img.astype(np.float32)/255.\n",
        "    label = to_categorical(0, num_classes=2)\n",
        "    test_data.append(img)\n",
        "    test_labels.append(label)\n",
        "                      \n",
        "for img in pneumonia_cases:\n",
        "    img = cv2.imread(str(img))\n",
        "    img = cv2.resize(img, (224,224))\n",
        "    if img.shape[2] ==1:\n",
        "        img = np.dstack([img, img, img])\n",
        "    else:\n",
        "        img = cv2.cvtColor(img, cv2.COLOR_BGR2RGB)\n",
        "    img = img.astype(np.float32)/255.\n",
        "    label = to_categorical(1, num_classes=2)\n",
        "    test_data.append(img)\n",
        "    test_labels.append(label)\n",
        "\n",
        "test_data = np.array(test_data)\n",
        "test_labels = np.array(test_labels)\n",
        "\n",
        "print(\"Total number of test examples: \", test_data.shape)\n",
        "print(\"Total number of labels:\", test_labels.shape)"
      ],
      "execution_count": 0,
      "outputs": []
    },
    {
      "cell_type": "code",
      "metadata": {
        "id": "waOSOfxifEIm",
        "colab_type": "code",
        "colab": {}
      },
      "source": [
        "# Evaluation on test dataset\n",
        "test_loss, test_score = model.evaluate(test_data, test_labels, batch_size=16)\n",
        "print(\"Loss on test set: \", test_loss)\n",
        "print(\"Accuracy on test set: \", test_score)"
      ],
      "execution_count": 0,
      "outputs": []
    },
    {
      "cell_type": "code",
      "metadata": {
        "id": "Thif7JOcfG0V",
        "colab_type": "code",
        "colab": {}
      },
      "source": [
        "# Get predictions\n",
        "preds = model.predict(test_data, batch_size=16)\n",
        "preds = np.argmax(preds, axis=-1)\n",
        "\n",
        "# Original labels\n",
        "orig_test_labels = np.argmax(test_labels, axis=-1)\n",
        "\n",
        "print(orig_test_labels.shape)\n",
        "print(preds.shape)"
      ],
      "execution_count": 0,
      "outputs": []
    },
    {
      "cell_type": "markdown",
      "metadata": {
        "id": "xlLiJmXkfLv_",
        "colab_type": "text"
      },
      "source": [
        "When a particular problem includes an imbalanced dataset, then accuracy isn't a good metric to look for. For example, if your dataset contains 95 negatives and 5 positives, having a model with 95% accuracy doesn't make sense at all. The classifier might label every example as negative and still achieve 95% accuracy. Hence, we need to look for alternative metrics. Precision and Recall are really good metrics for such kind of problems.\n",
        "\n",
        "We will get the confusion matrix from our predictions and see what is the recall and precision of our model."
      ]
    },
    {
      "cell_type": "code",
      "metadata": {
        "id": "f0BKRPbUfO6V",
        "colab_type": "code",
        "colab": {}
      },
      "source": [
        "# Get the confusion matrix\n",
        "cm = confusion_matrix(orig_test_labels, preds)\n",
        "plt.figure()\n",
        "#plot_confusion_matrix(cm,figsize=(12,8), hide_ticks=True, alpha=0.7,cmap=plt.cm.Blues)\n",
        "plot_confusion_matrix(cm,figsize=(12,8), hide_ticks=True,cmap=plt.cm.Blues)\n",
        "plt.xticks(range(2), ['Normal', 'Pneumonia'], fontsize=16)\n",
        "plt.yticks(range(2), ['Normal', 'Pneumonia'], fontsize=16)\n",
        "plt.show()"
      ],
      "execution_count": 0,
      "outputs": []
    },
    {
      "cell_type": "code",
      "metadata": {
        "id": "O0GR4luFfU2T",
        "colab_type": "code",
        "colab": {}
      },
      "source": [
        "# Calculate Precision and Recall\n",
        "tn, fp, fn, tp = cm.ravel()\n",
        "\n",
        "precision = tp/(tp+fp)\n",
        "recall = tp/(tp+fn)\n",
        "\n",
        "print(\"Recall of the model is {:.2f}\".format(recall))\n",
        "print(\"Precision of the model is {:.2f}\".format(precision))"
      ],
      "execution_count": 0,
      "outputs": []
    },
    {
      "cell_type": "markdown",
      "metadata": {
        "id": "6GN9yS9Vrxeg",
        "colab_type": "text"
      },
      "source": [
        "### My Results\n",
        "First training: Confusion matrix 119,115,3,387 -> Higher recall, worse precision than NAIN's best model. My model is leaning more towards predicting pneumonia. Accuracy on test set is 81% (NAIN had 82.7%)."
      ]
    }
  ]
}
